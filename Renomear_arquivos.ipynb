{
 "cells": [
  {
   "cell_type": "code",
   "execution_count": 4,
   "id": "612ef23a",
   "metadata": {},
   "outputs": [
    {
     "name": "stdout",
     "output_type": "stream",
     "text": [
      "Success\n"
     ]
    }
   ],
   "source": [
    "import os\n",
    "old_file = os.path.join(r'C:\\Users\\Fabio\\Desktop\\pasta_teste', 'Bahia10_V_V_V.png')\n",
    "new_file = os.path.join(r'C:\\Users\\Fabio\\Desktop\\pasta_teste', 'Bahia10.png')\n",
    "os.rename(old_file, new_file)\n",
    "\n",
    "print('Success')"
   ]
  },
  {
   "cell_type": "markdown",
   "id": "557189d5",
   "metadata": {},
   "source": [
    "- Contando o número de arquivos dentro de uma pasta:"
   ]
  },
  {
   "cell_type": "code",
   "execution_count": 7,
   "id": "a9418dae",
   "metadata": {},
   "outputs": [
    {
     "name": "stdout",
     "output_type": "stream",
     "text": [
      "Existem:  5 arquivos\n"
     ]
    }
   ],
   "source": [
    "import os\n",
    "\n",
    "list_arq = os.listdir(r'C:\\Users\\Fabio\\Desktop\\Top_Im') # dir is your directory path\n",
    "number_files = len(list_arq)\n",
    "print(\"Existem: \",number_files, \"arquivos\")"
   ]
  },
  {
   "cell_type": "code",
   "execution_count": 15,
   "id": "ac4acf0a",
   "metadata": {},
   "outputs": [
    {
     "name": "stdout",
     "output_type": "stream",
     "text": [
      "Success\n"
     ]
    }
   ],
   "source": [
    "import os\n",
    "\n",
    "list_arq = os.listdir(r'C:\\Users\\Fabio\\Desktop\\Top_Im')\n",
    "number_files = len(list_arq)\n",
    "\n",
    "for i in range(1,number_files+1):    \n",
    "    old_file = os.path.join(r'C:\\Users\\Fabio\\Desktop\\Top_Im', 'Bahia0'+str(i)+'_V_V_V.png')\n",
    "    new_file = os.path.join(r'C:\\Users\\Fabio\\Desktop\\Top_Im', 'Bahia0'+str(i)+'.png')\n",
    "    os.rename(old_file, new_file)\n",
    "    #print('Bahia0'+str(i)+'_V_V_V.png')    \n",
    "    #print('Bahia0'+str(i)+'.png')\n",
    "    #print('\\n')\n",
    "print('Success')"
   ]
  }
 ],
 "metadata": {
  "kernelspec": {
   "display_name": "Python 3 (ipykernel)",
   "language": "python",
   "name": "python3"
  },
  "language_info": {
   "codemirror_mode": {
    "name": "ipython",
    "version": 3
   },
   "file_extension": ".py",
   "mimetype": "text/x-python",
   "name": "python",
   "nbconvert_exporter": "python",
   "pygments_lexer": "ipython3",
   "version": "3.10.1"
  },
  "varInspector": {
   "cols": {
    "lenName": 16,
    "lenType": 16,
    "lenVar": 40
   },
   "kernels_config": {
    "python": {
     "delete_cmd_postfix": "",
     "delete_cmd_prefix": "del ",
     "library": "var_list.py",
     "varRefreshCmd": "print(var_dic_list())"
    },
    "r": {
     "delete_cmd_postfix": ") ",
     "delete_cmd_prefix": "rm(",
     "library": "var_list.r",
     "varRefreshCmd": "cat(var_dic_list()) "
    }
   },
   "types_to_exclude": [
    "module",
    "function",
    "builtin_function_or_method",
    "instance",
    "_Feature"
   ],
   "window_display": false
  }
 },
 "nbformat": 4,
 "nbformat_minor": 5
}
